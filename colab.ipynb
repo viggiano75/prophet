{
  "nbformat": 4,
  "nbformat_minor": 0,
  "metadata": {
    "colab": {
      "name": "Untitled2.ipynb",
      "provenance": []
    },
    "kernelspec": {
      "name": "python3",
      "display_name": "Python 3"
    }
  },
  "cells": [
    {
      "cell_type": "code",
      "metadata": {
        "id": "_-ZoYCLn2voR",
        "outputId": "2acb2a63-b692-4db2-a697-2d6ff2fc0b1b",
        "colab": {
          "base_uri": "https://localhost:8080/"
        }
      },
      "source": [
        "# Install Libraries (This may need to be done first each time the notebook is used here.  Takes a few minutes to install)\n",
        "from IPython.display import clear_output\n",
        "try:\n",
        "  !pip install pystan\n",
        "  !pip install --upgrade git+https://github.com/jroakes/google-analytics.git\n",
        "  !pip install fbprophet\n",
        "except:\n",
        "  pass\n",
        "finally:\n",
        "  clear_output()\n",
        "  print('All Loaded')"
      ],
      "execution_count": 1,
      "outputs": [
        {
          "output_type": "stream",
          "text": [
            "All Loaded\n"
          ],
          "name": "stdout"
        }
      ]
    },
    {
      "cell_type": "code",
      "metadata": {
        "id": "-bfL0lFY8uFa"
      },
      "source": [
        "import pandas as pd\n",
        "pd.set_option('display.max_rows', 500)\n",
        "pd.set_option('display.max_columns', 500)\n",
        "\n",
        "\n",
        "import numpy as np\n",
        "from fbprophet import Prophet\n",
        "from fbprophet.plot import add_changepoints_to_plot"
      ],
      "execution_count": 95,
      "outputs": []
    },
    {
      "cell_type": "code",
      "metadata": {
        "id": "w6KCGI-c2xjA",
        "outputId": "c6f81daa-3f42-4594-9c04-82a308063f73",
        "colab": {
          "base_uri": "https://localhost:8080/"
        }
      },
      "source": [
        "# load data\n",
        "path = 'https://raw.githubusercontent.com/jbrownlee/Datasets/master/monthly-car-sales.csv'\n",
        "df = pd.read_csv(path, header=0)\n",
        "# summarize shape\n",
        "print(df.shape)\n",
        "# show first few rows\n",
        "print(df.head())"
      ],
      "execution_count": 126,
      "outputs": [
        {
          "output_type": "stream",
          "text": [
            "(108, 2)\n",
            "     Month  Sales\n",
            "0  1960-01   6550\n",
            "1  1960-02   8728\n",
            "2  1960-03  12026\n",
            "3  1960-04  14395\n",
            "4  1960-05  14587\n"
          ],
          "name": "stdout"
        }
      ]
    },
    {
      "cell_type": "code",
      "metadata": {
        "id": "9dXKrnos8xii"
      },
      "source": [
        "df[\"agencia\"] = \"A\""
      ],
      "execution_count": 127,
      "outputs": []
    },
    {
      "cell_type": "code",
      "metadata": {
        "id": "kAWciZy4871n",
        "outputId": "fb71835d-5655-48a4-81ee-a2cb1401dc7d",
        "colab": {
          "base_uri": "https://localhost:8080/"
        }
      },
      "source": [
        "for i in [\"b\", \"c\", \"D\", \"E\", \"f\", \"g\", \"H\"]:\n",
        "  print (i)\n",
        "  df_aux = df.query(\"agencia == 'A'\").copy()\n",
        "  df_aux[\"agencia\"] = i\n",
        "  df_aux[\"Sales\"] = df_aux[\"Sales\"] * np.random.randint(1,100) /10\n",
        "\n",
        "  df = pd.concat([df,df_aux])\n"
      ],
      "execution_count": 128,
      "outputs": [
        {
          "output_type": "stream",
          "text": [
            "b\n",
            "c\n",
            "D\n",
            "E\n",
            "f\n",
            "g\n",
            "H\n"
          ],
          "name": "stdout"
        }
      ]
    },
    {
      "cell_type": "markdown",
      "metadata": {
        "id": "cNjtKFFl_c-X"
      },
      "source": [
        "PRophet"
      ]
    },
    {
      "cell_type": "code",
      "metadata": {
        "id": "A0nn7FPmCacK"
      },
      "source": [
        "df[\"data\"] = pd.to_datetime(df[\"Month\"]) "
      ],
      "execution_count": 129,
      "outputs": []
    },
    {
      "cell_type": "code",
      "metadata": {
        "id": "I-eeDMTfUkBT"
      },
      "source": [
        ""
      ],
      "execution_count": null,
      "outputs": []
    },
    {
      "cell_type": "code",
      "metadata": {
        "id": "gv1Ws9ynCOd4"
      },
      "source": [
        "df_treino = df.query(\"data < '1966-01-01'\")\n",
        "df_teste = df.query(\"data  >= '1966-01-01'\")"
      ],
      "execution_count": 131,
      "outputs": []
    },
    {
      "cell_type": "code",
      "metadata": {
        "id": "OCVdnZqxIkhq"
      },
      "source": [
        "future = pd.DataFrame(df_teste[\"data\"].unique())\n",
        "future.columns = ['ds']"
      ],
      "execution_count": 130,
      "outputs": []
    },
    {
      "cell_type": "code",
      "metadata": {
        "id": "0Y-NX38QDHiC",
        "outputId": "f4907f26-83de-40ba-cb59-b6b26642d754",
        "colab": {
          "base_uri": "https://localhost:8080/",
          "height": 204
        }
      },
      "source": [
        "df_treino.head()"
      ],
      "execution_count": 132,
      "outputs": [
        {
          "output_type": "execute_result",
          "data": {
            "text/html": [
              "<div>\n",
              "<style scoped>\n",
              "    .dataframe tbody tr th:only-of-type {\n",
              "        vertical-align: middle;\n",
              "    }\n",
              "\n",
              "    .dataframe tbody tr th {\n",
              "        vertical-align: top;\n",
              "    }\n",
              "\n",
              "    .dataframe thead th {\n",
              "        text-align: right;\n",
              "    }\n",
              "</style>\n",
              "<table border=\"1\" class=\"dataframe\">\n",
              "  <thead>\n",
              "    <tr style=\"text-align: right;\">\n",
              "      <th></th>\n",
              "      <th>Month</th>\n",
              "      <th>Sales</th>\n",
              "      <th>agencia</th>\n",
              "      <th>data</th>\n",
              "    </tr>\n",
              "  </thead>\n",
              "  <tbody>\n",
              "    <tr>\n",
              "      <th>0</th>\n",
              "      <td>1960-01</td>\n",
              "      <td>6550.0</td>\n",
              "      <td>A</td>\n",
              "      <td>1960-01-01</td>\n",
              "    </tr>\n",
              "    <tr>\n",
              "      <th>1</th>\n",
              "      <td>1960-02</td>\n",
              "      <td>8728.0</td>\n",
              "      <td>A</td>\n",
              "      <td>1960-02-01</td>\n",
              "    </tr>\n",
              "    <tr>\n",
              "      <th>2</th>\n",
              "      <td>1960-03</td>\n",
              "      <td>12026.0</td>\n",
              "      <td>A</td>\n",
              "      <td>1960-03-01</td>\n",
              "    </tr>\n",
              "    <tr>\n",
              "      <th>3</th>\n",
              "      <td>1960-04</td>\n",
              "      <td>14395.0</td>\n",
              "      <td>A</td>\n",
              "      <td>1960-04-01</td>\n",
              "    </tr>\n",
              "    <tr>\n",
              "      <th>4</th>\n",
              "      <td>1960-05</td>\n",
              "      <td>14587.0</td>\n",
              "      <td>A</td>\n",
              "      <td>1960-05-01</td>\n",
              "    </tr>\n",
              "  </tbody>\n",
              "</table>\n",
              "</div>"
            ],
            "text/plain": [
              "     Month    Sales agencia       data\n",
              "0  1960-01   6550.0       A 1960-01-01\n",
              "1  1960-02   8728.0       A 1960-02-01\n",
              "2  1960-03  12026.0       A 1960-03-01\n",
              "3  1960-04  14395.0       A 1960-04-01\n",
              "4  1960-05  14587.0       A 1960-05-01"
            ]
          },
          "metadata": {
            "tags": []
          },
          "execution_count": 132
        }
      ]
    },
    {
      "cell_type": "code",
      "metadata": {
        "id": "8QhA0_69DSPV",
        "outputId": "d61f76eb-0bfb-47e6-feb4-76909c965ac8",
        "colab": {
          "base_uri": "https://localhost:8080/"
        }
      },
      "source": [
        "df_teste[\"agencia\"].value_counts()"
      ],
      "execution_count": 133,
      "outputs": [
        {
          "output_type": "execute_result",
          "data": {
            "text/plain": [
              "c    36\n",
              "A    36\n",
              "E    36\n",
              "H    36\n",
              "f    36\n",
              "b    36\n",
              "D    36\n",
              "g    36\n",
              "Name: agencia, dtype: int64"
            ]
          },
          "metadata": {
            "tags": []
          },
          "execution_count": 133
        }
      ]
    },
    {
      "cell_type": "code",
      "metadata": {
        "id": "HmqSIf8I_f2b",
        "outputId": "739645bf-9ec8-43e5-9db9-bab337cf2762",
        "colab": {
          "base_uri": "https://localhost:8080/"
        }
      },
      "source": [
        "# criando o dataset de futuro - que será o nosso de validação\n",
        "future = pd.DataFrame(df_teste[\"data\"].unique())\n",
        "future.columns = ['ds']\n",
        "\n",
        "# Treinando para cada agencia\n",
        "\n",
        "\n",
        "# cria o dataframe com as predições para cada agencia\n",
        "yhats = pd.DataFrame()\n",
        "\n",
        "# treinando um modelo para cada agencia\n",
        "for i in df_treino[\"agencia\"].unique():\n",
        "\n",
        "  df_prophet = df_treino.query(f\"agencia == '{i}'\")[[\"data\", \"Sales\"]]\n",
        "  df_prophet = df_prophet.rename(columns={\"data\" : \"ds\", \"Sales\" : \"y\"})\n",
        "  \n",
        "  prophet = Prophet()\n",
        "  prophet.add_country_holidays(country_name='US')\n",
        "  prophet.fit(df_prophet)\n",
        "  forecast = prophet.predict(future)\n",
        "\n",
        "# preenchendo o dataframe com as preedições\n",
        "  aux = pd.DataFrame()\n",
        "  string = f'{i}'\n",
        "  aux[\"ds\"] = forecast[\"ds\"]\n",
        "  aux[\"yhat\"] = forecast[\"yhat\"]\n",
        "  aux[\"agencia\"] = string\n",
        "  \n",
        "  yhats = pd.concat([yhats, aux])\n",
        "\n",
        "\n",
        "  # fig = prophet.plot(forecast)\n",
        "  # a = add_changepoints_to_plot(fig.gca(), prophet, forecast)\n"
      ],
      "execution_count": 152,
      "outputs": [
        {
          "output_type": "stream",
          "text": [
            "INFO:fbprophet:Disabling weekly seasonality. Run prophet with weekly_seasonality=True to override this.\n",
            "INFO:fbprophet:Disabling daily seasonality. Run prophet with daily_seasonality=True to override this.\n",
            "INFO:fbprophet:Disabling weekly seasonality. Run prophet with weekly_seasonality=True to override this.\n",
            "INFO:fbprophet:Disabling daily seasonality. Run prophet with daily_seasonality=True to override this.\n",
            "INFO:fbprophet:Disabling weekly seasonality. Run prophet with weekly_seasonality=True to override this.\n",
            "INFO:fbprophet:Disabling daily seasonality. Run prophet with daily_seasonality=True to override this.\n",
            "INFO:fbprophet:Disabling weekly seasonality. Run prophet with weekly_seasonality=True to override this.\n",
            "INFO:fbprophet:Disabling daily seasonality. Run prophet with daily_seasonality=True to override this.\n",
            "INFO:fbprophet:Disabling weekly seasonality. Run prophet with weekly_seasonality=True to override this.\n",
            "INFO:fbprophet:Disabling daily seasonality. Run prophet with daily_seasonality=True to override this.\n",
            "INFO:fbprophet:Disabling weekly seasonality. Run prophet with weekly_seasonality=True to override this.\n",
            "INFO:fbprophet:Disabling daily seasonality. Run prophet with daily_seasonality=True to override this.\n",
            "INFO:fbprophet:Disabling weekly seasonality. Run prophet with weekly_seasonality=True to override this.\n",
            "INFO:fbprophet:Disabling daily seasonality. Run prophet with daily_seasonality=True to override this.\n",
            "INFO:fbprophet:Disabling weekly seasonality. Run prophet with weekly_seasonality=True to override this.\n",
            "INFO:fbprophet:Disabling daily seasonality. Run prophet with daily_seasonality=True to override this.\n"
          ],
          "name": "stderr"
        }
      ]
    },
    {
      "cell_type": "code",
      "metadata": {
        "id": "C9q74txvLY9E",
        "outputId": "cf211a4a-660c-4c75-c473-ae20012866b0",
        "colab": {
          "base_uri": "https://localhost:8080/"
        }
      },
      "source": [
        "df_teste[\"ds\"] = df_teste[\"data\"]"
      ],
      "execution_count": 154,
      "outputs": [
        {
          "output_type": "stream",
          "text": [
            "/usr/local/lib/python3.6/dist-packages/ipykernel_launcher.py:1: SettingWithCopyWarning:\n",
            "\n",
            "\n",
            "A value is trying to be set on a copy of a slice from a DataFrame.\n",
            "Try using .loc[row_indexer,col_indexer] = value instead\n",
            "\n",
            "See the caveats in the documentation: https://pandas.pydata.org/pandas-docs/stable/user_guide/indexing.html#returning-a-view-versus-a-copy\n",
            "\n"
          ],
          "name": "stderr"
        }
      ]
    },
    {
      "cell_type": "code",
      "metadata": {
        "id": "KU33J0ZsHSGY"
      },
      "source": [
        "results = pd.merge(df_teste, yhats, on =['ds', 'agencia'], how=\"left\")\n",
        "results[\"erro_absoluto\"] = np.abs(results[\"Sales\"] - results[\"yhat\"])"
      ],
      "execution_count": 155,
      "outputs": []
    },
    {
      "cell_type": "code",
      "metadata": {
        "id": "_Nuw_mxxDr5N",
        "outputId": "12994eec-c027-4e40-b185-37dc6babb010",
        "colab": {
          "base_uri": "https://localhost:8080/"
        }
      },
      "source": [
        "results[\"erro_absoluto\"] = np.abs(results[\"Sales\"] - results[\"yhat\"])\n",
        "results[\"erro_absoluto\"].mean()"
      ],
      "execution_count": 157,
      "outputs": [
        {
          "output_type": "execute_result",
          "data": {
            "text/plain": [
              "9319.720775188129"
            ]
          },
          "metadata": {
            "tags": []
          },
          "execution_count": 157
        }
      ]
    },
    {
      "cell_type": "code",
      "metadata": {
        "id": "AUivTaL-Dr74",
        "outputId": "eb897459-e0fb-400e-b23d-03f6f48749e8",
        "colab": {
          "base_uri": "https://localhost:8080/"
        }
      },
      "source": [
        "results[\"erro_absoluto\"].mean()"
      ],
      "execution_count": 153,
      "outputs": [
        {
          "output_type": "execute_result",
          "data": {
            "text/plain": [
              "9315.826416385864"
            ]
          },
          "metadata": {
            "tags": []
          },
          "execution_count": 153
        }
      ]
    },
    {
      "cell_type": "markdown",
      "metadata": {
        "id": "PE-i6ziCUgNq"
      },
      "source": [
        "# parameteres tunning"
      ]
    },
    {
      "cell_type": "code",
      "metadata": {
        "id": "P0L4gF-WDsA_"
      },
      "source": [
        "df_treino = df.query(\"data < '1966-01-01'\")\n",
        "df_teste = df.query(\"data  >= '1966-01-01'\")"
      ],
      "execution_count": 159,
      "outputs": []
    },
    {
      "cell_type": "code",
      "metadata": {
        "id": "46ouEeZrVF1M",
        "outputId": "5c28d7b1-c525-4f60-fe4e-c25d4df8aa1b",
        "colab": {
          "base_uri": "https://localhost:8080/"
        }
      },
      "source": [
        "from sklearn.model_selection import ParameterGrid\n",
        "# params_grid = {'seasonality_mode':('multiplicative','additive'),\n",
        "#                'changepoint_prior_scale':[0.1,0.2,0.3,0.4,0.5],\n",
        "#               'holidays_prior_scale':[0.1,0.2,0.3,0.4,0.5],\n",
        "#               'n_changepoints' : [100,150,200]}\n",
        "params_grid = {'seasonality_mode':('multiplicative','additive')}\n",
        "\n",
        "\n",
        "grid = ParameterGrid(params_grid)\n",
        "cnt = 0\n",
        "for p in grid:\n",
        "    cnt = cnt+1\n",
        "\n",
        "print('Total Possible Models',cnt)"
      ],
      "execution_count": 171,
      "outputs": [
        {
          "output_type": "stream",
          "text": [
            "Total Possible Models 2\n"
          ],
          "name": "stdout"
        }
      ]
    },
    {
      "cell_type": "code",
      "metadata": {
        "id": "-PrAoM1PDsDm",
        "outputId": "309c015d-21a7-4bf0-9eb7-8d4bcf17cd5c",
        "colab": {
          "base_uri": "https://localhost:8080/"
        }
      },
      "source": [
        "# criando o dataset de futuro - que será o nosso de validação\n",
        "future = pd.DataFrame(df_teste[\"data\"].unique())\n",
        "future.columns = ['ds']\n",
        "\n",
        "# Treinando para cada agencia\n",
        "\n",
        "MAE_dict = {}\n",
        "\n",
        "# cria o dataframe com as predições para cada agencia\n",
        "yhats = pd.DataFrame()\n",
        "\n",
        "# treinando um modelo para cada agencia\n",
        "for i in df_treino[\"agencia\"].unique():\n",
        "\n",
        "  df_prophet = df_treino.query(f\"agencia == '{i}'\")[[\"data\", \"Sales\"]]\n",
        "  df_prophet = df_prophet.rename(columns={\"data\" : \"ds\", \"Sales\" : \"y\"})\n",
        "\n",
        "  model_parameters = pd.DataFrame(columns = ['MAPE','Parameters'])\n",
        "  \n",
        "  for p in grid:\n",
        "    print(i,p)\n",
        "    prophet = Prophet(#changepoint_prior_scale = p['changepoint_prior_scale'],\n",
        "                       # holidays_prior_scale = p['holidays_prior_scale'],\n",
        "                       # n_changepoints = p['n_changepoints'],\n",
        "                        seasonality_mode = p['seasonality_mode'],\n",
        "                        weekly_seasonality=True,\n",
        "                        daily_seasonality = True,\n",
        "                        yearly_seasonality = True, \n",
        "                        interval_width=0.95)\n",
        "    prophet.fit(df_prophet)\n",
        "    forecast = prophet.predict(future)\n",
        "\n",
        "    df_teste_aux = df_teste.query(f\"agencia == '{i}'\")[[\"data\", \"Sales\"]]\n",
        "    df_teste_aux = df_teste_aux.rename(columns={\"data\" : \"ds\", \"Sales\" : \"y\"}) \n",
        "\n",
        "    results = pd.merge(df_teste_aux, forecast[[\"ds\", \"yhat\"]], on=\"ds\")\n",
        "    results[\"erro_absoluto\"] = np.abs(results[\"y\"] - results[\"yhat\"])\n",
        "    MAE = results[\"erro_absoluto\"].mean()\n",
        "\n",
        "    model_parameters = model_parameters.append({'MAPE':MAE,'Parameters':p},ignore_index=True)\n",
        "\n",
        "    MAE_dict[i] = model_parameters\n",
        "\n"
      ],
      "execution_count": 190,
      "outputs": [
        {
          "output_type": "stream",
          "text": [
            "A {'seasonality_mode': 'multiplicative'}\n",
            "A {'seasonality_mode': 'additive'}\n",
            "b {'seasonality_mode': 'multiplicative'}\n",
            "b {'seasonality_mode': 'additive'}\n",
            "c {'seasonality_mode': 'multiplicative'}\n",
            "c {'seasonality_mode': 'additive'}\n",
            "D {'seasonality_mode': 'multiplicative'}\n",
            "D {'seasonality_mode': 'additive'}\n",
            "E {'seasonality_mode': 'multiplicative'}\n",
            "E {'seasonality_mode': 'additive'}\n",
            "f {'seasonality_mode': 'multiplicative'}\n",
            "f {'seasonality_mode': 'additive'}\n",
            "g {'seasonality_mode': 'multiplicative'}\n",
            "g {'seasonality_mode': 'additive'}\n",
            "H {'seasonality_mode': 'multiplicative'}\n",
            "H {'seasonality_mode': 'additive'}\n"
          ],
          "name": "stdout"
        }
      ]
    },
    {
      "cell_type": "code",
      "metadata": {
        "id": "Q1Q7CKZQYLNZ",
        "outputId": "9f8e08a8-8b6b-496c-bd99-21d82345daf6",
        "colab": {
          "base_uri": "https://localhost:8080/"
        }
      },
      "source": [
        "for i in df_treino[\"agencia\"].unique():\n",
        "  print(MAE_dict[i].sort_values(\"MAPE\", ascending=True)[:1])"
      ],
      "execution_count": 193,
      "outputs": [
        {
          "output_type": "stream",
          "text": [
            "          MAPE                        Parameters\n",
            "1  2547.381775  {'seasonality_mode': 'additive'}\n",
            "          MAPE                        Parameters\n",
            "1  6623.192616  {'seasonality_mode': 'additive'}\n",
            "         MAPE                        Parameters\n",
            "1  5094.76355  {'seasonality_mode': 'additive'}\n",
            "           MAPE                        Parameters\n",
            "1  12227.432521  {'seasonality_mode': 'additive'}\n",
            "         MAPE                        Parameters\n",
            "1  3056.85813  {'seasonality_mode': 'additive'}\n",
            "         MAPE                        Parameters\n",
            "1  3056.85813  {'seasonality_mode': 'additive'}\n",
            "           MAPE                        Parameters\n",
            "1  21398.006912  {'seasonality_mode': 'additive'}\n",
            "           MAPE                        Parameters\n",
            "1  16303.243361  {'seasonality_mode': 'additive'}\n"
          ],
          "name": "stdout"
        }
      ]
    },
    {
      "cell_type": "code",
      "metadata": {
        "id": "nTELZr4bYLTL"
      },
      "source": [
        ""
      ],
      "execution_count": null,
      "outputs": []
    },
    {
      "cell_type": "code",
      "metadata": {
        "id": "ftbf2vSiYLVg"
      },
      "source": [
        ""
      ],
      "execution_count": null,
      "outputs": []
    },
    {
      "cell_type": "code",
      "metadata": {
        "id": "cB0hNSsIYLYc"
      },
      "source": [
        ""
      ],
      "execution_count": null,
      "outputs": []
    },
    {
      "cell_type": "code",
      "metadata": {
        "id": "H6jUzjhpYLbE"
      },
      "source": [
        ""
      ],
      "execution_count": null,
      "outputs": []
    },
    {
      "cell_type": "code",
      "metadata": {
        "id": "sCUtBGqwDsIW"
      },
      "source": [
        ""
      ],
      "execution_count": null,
      "outputs": []
    },
    {
      "cell_type": "code",
      "metadata": {
        "id": "KgMZTvEzDsK1"
      },
      "source": [
        ""
      ],
      "execution_count": null,
      "outputs": []
    }
  ]
}